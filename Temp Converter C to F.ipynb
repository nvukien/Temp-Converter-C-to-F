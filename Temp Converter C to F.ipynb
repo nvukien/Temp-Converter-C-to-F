{
 "cells": [
  {
   "cell_type": "code",
   "execution_count": 2,
   "id": "3aba3cb3",
   "metadata": {},
   "outputs": [
    {
     "name": "stdout",
     "output_type": "stream",
     "text": [
      " Enter temperature in Centigrade: 40\n",
      " Temperature in Fahrenheit is:  104.0\n"
     ]
    }
   ],
   "source": [
    "import math\n",
    "\n",
    "c = input(\" Enter temperature in Centigrade: \")\n",
    "f = (9*(int(c))/5)+32\n",
    "print(\" Temperature in Fahrenheit is: \", f)"
   ]
  }
 ],
 "metadata": {
  "kernelspec": {
   "display_name": "Python 3 (ipykernel)",
   "language": "python",
   "name": "python3"
  },
  "language_info": {
   "codemirror_mode": {
    "name": "ipython",
    "version": 3
   },
   "file_extension": ".py",
   "mimetype": "text/x-python",
   "name": "python",
   "nbconvert_exporter": "python",
   "pygments_lexer": "ipython3",
   "version": "3.10.0"
  }
 },
 "nbformat": 4,
 "nbformat_minor": 5
}
